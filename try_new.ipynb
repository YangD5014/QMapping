{
 "cells": [
  {
   "cell_type": "code",
   "execution_count": 1,
   "metadata": {},
   "outputs": [],
   "source": [
    "from qiskit.providers import QubitProperties\n",
    "import sys\n",
    "import pandas as pd\n",
    "sys.path.append('..')\n",
    "from cqlib.utils import QcisToQasm\n",
    "from qiskit import  qasm2\n",
    "from mqt import qmap\n",
    "from tool import solve\n",
    "from tool import  QSIC2QCircuit\n",
    "import json\n",
    "from Initial_map import find_best_mapping"
   ]
  },
  {
   "cell_type": "code",
   "execution_count": 2,
   "metadata": {},
   "outputs": [
    {
     "name": "stdout",
     "output_type": "stream",
     "text": [
      "初始化布局生效|score=141.3|map={0: 'Q52', 1: 'Q53', 2: 'Q45'}\n"
     ]
    }
   ],
   "source": [
    "with open('./XEB测试集/XEB/XEB_3_qubits/XEB_3_qubits_16_cycles_circuit.txt','r') as f:\n",
    "    qcis = f.read()\n",
    "Qcir = QSIC2QCircuit(QCIS=qcis)\n",
    "\n",
    "my_map,_,_ = solve(qcis)"
   ]
  },
  {
   "cell_type": "code",
   "execution_count": null,
   "metadata": {},
   "outputs": [],
   "source": [
    "my_map\n",
    "my_map_dict = {k: v for k, v in my_map}\n",
    "my_map_dict"
   ]
  },
  {
   "cell_type": "code",
   "execution_count": 9,
   "metadata": {},
   "outputs": [],
   "source": [
    "from qiskit.transpiler import Layout"
   ]
  },
  {
   "cell_type": "code",
   "execution_count": 17,
   "metadata": {},
   "outputs": [],
   "source": [
    "layout = Layout()\n",
    "for k,v in my_map_dict.items():\n",
    "    layout.add(Qcir.qubits[k],v)\n",
    "\n"
   ]
  },
  {
   "cell_type": "code",
   "execution_count": null,
   "metadata": {},
   "outputs": [],
   "source": [
    "Qcir.qubits[0]"
   ]
  },
  {
   "cell_type": "code",
   "execution_count": null,
   "metadata": {},
   "outputs": [],
   "source": []
  }
 ],
 "metadata": {
  "kernelspec": {
   "display_name": "QuantumV2",
   "language": "python",
   "name": "python3"
  },
  "language_info": {
   "codemirror_mode": {
    "name": "ipython",
    "version": 3
   },
   "file_extension": ".py",
   "mimetype": "text/x-python",
   "name": "python",
   "nbconvert_exporter": "python",
   "pygments_lexer": "ipython3",
   "version": "3.11.8"
  }
 },
 "nbformat": 4,
 "nbformat_minor": 2
}
